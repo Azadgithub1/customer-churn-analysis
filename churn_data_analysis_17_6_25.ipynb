{
 "cells": [
  {
   "cell_type": "markdown",
   "id": "49a4435c-d022-45ce-9471-69436e9e793e",
   "metadata": {},
   "source": [
    "### Step-by-Step Plan:\n",
    "### We'll follow this data analytics process:\n",
    "\n",
    "### 1.Import libraries & load data ✅\n",
    "\n",
    "### 2.Understand the data\n",
    "\n",
    "### 3.Clean the data (handle missing values, data types)\n",
    "\n",
    "### 4.Explore the data (EDA: stats, plots)\n",
    "\n",
    "### 5.Find insights (correlations, churn patterns)\n",
    "\n",
    "### 6.Optional: Prepare for modeling\n",
    "\n",
    "### 7.Make conclusion/report"
   ]
  },
  {
   "cell_type": "markdown",
   "id": "052b95ed-83de-4b08-a1af-1d283dd623fd",
   "metadata": {},
   "source": [
    "# 1. import the packages and Load the Dataset"
   ]
  },
  {
   "cell_type": "code",
   "execution_count": 1,
   "id": "0267e85d-5c7c-4aec-92c7-fcabb4c43a21",
   "metadata": {},
   "outputs": [],
   "source": [
    "import pandas as pd\n",
    "import numpy as np\n",
    "import matplotlib.pyplot as plt\n",
    "import seaborn as sns"
   ]
  },
  {
   "cell_type": "code",
   "execution_count": 2,
   "id": "a96fd27f-be65-48ee-a13a-83fecb3de2ee",
   "metadata": {},
   "outputs": [
    {
     "data": {
      "text/html": [
       "<div>\n",
       "<style scoped>\n",
       "    .dataframe tbody tr th:only-of-type {\n",
       "        vertical-align: middle;\n",
       "    }\n",
       "\n",
       "    .dataframe tbody tr th {\n",
       "        vertical-align: top;\n",
       "    }\n",
       "\n",
       "    .dataframe thead th {\n",
       "        text-align: right;\n",
       "    }\n",
       "</style>\n",
       "<table border=\"1\" class=\"dataframe\">\n",
       "  <thead>\n",
       "    <tr style=\"text-align: right;\">\n",
       "      <th></th>\n",
       "      <th>customer_id</th>\n",
       "      <th>gender</th>\n",
       "      <th>age</th>\n",
       "      <th>monthly_charges</th>\n",
       "      <th>total_charges</th>\n",
       "      <th>tenure</th>\n",
       "      <th>churn</th>\n",
       "    </tr>\n",
       "  </thead>\n",
       "  <tbody>\n",
       "    <tr>\n",
       "      <th>0</th>\n",
       "      <td>C1000</td>\n",
       "      <td>Male</td>\n",
       "      <td>38</td>\n",
       "      <td>110.42</td>\n",
       "      <td>3610.76</td>\n",
       "      <td>36</td>\n",
       "      <td>No</td>\n",
       "    </tr>\n",
       "    <tr>\n",
       "      <th>1</th>\n",
       "      <td>C1001</td>\n",
       "      <td>Female</td>\n",
       "      <td>49</td>\n",
       "      <td>54.83</td>\n",
       "      <td>2943.67</td>\n",
       "      <td>55</td>\n",
       "      <td>No</td>\n",
       "    </tr>\n",
       "    <tr>\n",
       "      <th>2</th>\n",
       "      <td>C1002</td>\n",
       "      <td>Male</td>\n",
       "      <td>40</td>\n",
       "      <td>71.40</td>\n",
       "      <td>3033.45</td>\n",
       "      <td>69</td>\n",
       "      <td>No</td>\n",
       "    </tr>\n",
       "    <tr>\n",
       "      <th>3</th>\n",
       "      <td>C1003</td>\n",
       "      <td>Male</td>\n",
       "      <td>50</td>\n",
       "      <td>98.37</td>\n",
       "      <td>2412.72</td>\n",
       "      <td>47</td>\n",
       "      <td>Yes</td>\n",
       "    </tr>\n",
       "    <tr>\n",
       "      <th>4</th>\n",
       "      <td>C1004</td>\n",
       "      <td>Male</td>\n",
       "      <td>20</td>\n",
       "      <td>59.65</td>\n",
       "      <td>516.72</td>\n",
       "      <td>49</td>\n",
       "      <td>Yes</td>\n",
       "    </tr>\n",
       "    <tr>\n",
       "      <th>...</th>\n",
       "      <td>...</td>\n",
       "      <td>...</td>\n",
       "      <td>...</td>\n",
       "      <td>...</td>\n",
       "      <td>...</td>\n",
       "      <td>...</td>\n",
       "      <td>...</td>\n",
       "    </tr>\n",
       "    <tr>\n",
       "      <th>495</th>\n",
       "      <td>C1495</td>\n",
       "      <td>Male</td>\n",
       "      <td>35</td>\n",
       "      <td>61.78</td>\n",
       "      <td>2820.58</td>\n",
       "      <td>70</td>\n",
       "      <td>Yes</td>\n",
       "    </tr>\n",
       "    <tr>\n",
       "      <th>496</th>\n",
       "      <td>C1496</td>\n",
       "      <td>Male</td>\n",
       "      <td>47</td>\n",
       "      <td>62.14</td>\n",
       "      <td>8243.88</td>\n",
       "      <td>44</td>\n",
       "      <td>Yes</td>\n",
       "    </tr>\n",
       "    <tr>\n",
       "      <th>497</th>\n",
       "      <td>C1497</td>\n",
       "      <td>Female</td>\n",
       "      <td>32</td>\n",
       "      <td>93.76</td>\n",
       "      <td>4295.01</td>\n",
       "      <td>45</td>\n",
       "      <td>No</td>\n",
       "    </tr>\n",
       "    <tr>\n",
       "      <th>498</th>\n",
       "      <td>C1498</td>\n",
       "      <td>Male</td>\n",
       "      <td>44</td>\n",
       "      <td>43.88</td>\n",
       "      <td>6708.74</td>\n",
       "      <td>56</td>\n",
       "      <td>Yes</td>\n",
       "    </tr>\n",
       "    <tr>\n",
       "      <th>499</th>\n",
       "      <td>C1499</td>\n",
       "      <td>Female</td>\n",
       "      <td>68</td>\n",
       "      <td>31.05</td>\n",
       "      <td>1045.80</td>\n",
       "      <td>57</td>\n",
       "      <td>Yes</td>\n",
       "    </tr>\n",
       "  </tbody>\n",
       "</table>\n",
       "<p>500 rows × 7 columns</p>\n",
       "</div>"
      ],
      "text/plain": [
       "    customer_id  gender  age  monthly_charges  total_charges  tenure churn\n",
       "0         C1000    Male   38           110.42        3610.76      36    No\n",
       "1         C1001  Female   49            54.83        2943.67      55    No\n",
       "2         C1002    Male   40            71.40        3033.45      69    No\n",
       "3         C1003    Male   50            98.37        2412.72      47   Yes\n",
       "4         C1004    Male   20            59.65         516.72      49   Yes\n",
       "..          ...     ...  ...              ...            ...     ...   ...\n",
       "495       C1495    Male   35            61.78        2820.58      70   Yes\n",
       "496       C1496    Male   47            62.14        8243.88      44   Yes\n",
       "497       C1497  Female   32            93.76        4295.01      45    No\n",
       "498       C1498    Male   44            43.88        6708.74      56   Yes\n",
       "499       C1499  Female   68            31.05        1045.80      57   Yes\n",
       "\n",
       "[500 rows x 7 columns]"
      ]
     },
     "execution_count": 2,
     "metadata": {},
     "output_type": "execute_result"
    }
   ],
   "source": [
    "file=r\"C:\\Users\\md mumtaz\\Downloads\\telecom_churn_data_full.csv\"\n",
    "data=pd.read_csv(file)\n",
    "data    "
   ]
  },
  {
   "cell_type": "code",
   "execution_count": 3,
   "id": "3d5ac9b9-1a8b-443c-83bf-4de57d85405a",
   "metadata": {},
   "outputs": [
    {
     "data": {
      "text/html": [
       "<div>\n",
       "<style scoped>\n",
       "    .dataframe tbody tr th:only-of-type {\n",
       "        vertical-align: middle;\n",
       "    }\n",
       "\n",
       "    .dataframe tbody tr th {\n",
       "        vertical-align: top;\n",
       "    }\n",
       "\n",
       "    .dataframe thead th {\n",
       "        text-align: right;\n",
       "    }\n",
       "</style>\n",
       "<table border=\"1\" class=\"dataframe\">\n",
       "  <thead>\n",
       "    <tr style=\"text-align: right;\">\n",
       "      <th></th>\n",
       "      <th>customer_id</th>\n",
       "      <th>gender</th>\n",
       "      <th>age</th>\n",
       "      <th>monthly_charges</th>\n",
       "      <th>total_charges</th>\n",
       "      <th>tenure</th>\n",
       "      <th>churn</th>\n",
       "    </tr>\n",
       "  </thead>\n",
       "  <tbody>\n",
       "    <tr>\n",
       "      <th>0</th>\n",
       "      <td>C1000</td>\n",
       "      <td>Male</td>\n",
       "      <td>38</td>\n",
       "      <td>110.42</td>\n",
       "      <td>3610.76</td>\n",
       "      <td>36</td>\n",
       "      <td>No</td>\n",
       "    </tr>\n",
       "    <tr>\n",
       "      <th>1</th>\n",
       "      <td>C1001</td>\n",
       "      <td>Female</td>\n",
       "      <td>49</td>\n",
       "      <td>54.83</td>\n",
       "      <td>2943.67</td>\n",
       "      <td>55</td>\n",
       "      <td>No</td>\n",
       "    </tr>\n",
       "    <tr>\n",
       "      <th>2</th>\n",
       "      <td>C1002</td>\n",
       "      <td>Male</td>\n",
       "      <td>40</td>\n",
       "      <td>71.40</td>\n",
       "      <td>3033.45</td>\n",
       "      <td>69</td>\n",
       "      <td>No</td>\n",
       "    </tr>\n",
       "    <tr>\n",
       "      <th>3</th>\n",
       "      <td>C1003</td>\n",
       "      <td>Male</td>\n",
       "      <td>50</td>\n",
       "      <td>98.37</td>\n",
       "      <td>2412.72</td>\n",
       "      <td>47</td>\n",
       "      <td>Yes</td>\n",
       "    </tr>\n",
       "    <tr>\n",
       "      <th>4</th>\n",
       "      <td>C1004</td>\n",
       "      <td>Male</td>\n",
       "      <td>20</td>\n",
       "      <td>59.65</td>\n",
       "      <td>516.72</td>\n",
       "      <td>49</td>\n",
       "      <td>Yes</td>\n",
       "    </tr>\n",
       "  </tbody>\n",
       "</table>\n",
       "</div>"
      ],
      "text/plain": [
       "  customer_id  gender  age  monthly_charges  total_charges  tenure churn\n",
       "0       C1000    Male   38           110.42        3610.76      36    No\n",
       "1       C1001  Female   49            54.83        2943.67      55    No\n",
       "2       C1002    Male   40            71.40        3033.45      69    No\n",
       "3       C1003    Male   50            98.37        2412.72      47   Yes\n",
       "4       C1004    Male   20            59.65         516.72      49   Yes"
      ]
     },
     "execution_count": 3,
     "metadata": {},
     "output_type": "execute_result"
    }
   ],
   "source": [
    "data.head()"
   ]
  },
  {
   "cell_type": "code",
   "execution_count": 4,
   "id": "44643c38-52b1-4edc-9abd-9a162e767795",
   "metadata": {},
   "outputs": [
    {
     "name": "stdout",
     "output_type": "stream",
     "text": [
      "Shape: (500, 7)\n",
      "\n",
      "Info:\n",
      "<class 'pandas.core.frame.DataFrame'>\n",
      "RangeIndex: 500 entries, 0 to 499\n",
      "Data columns (total 7 columns):\n",
      " #   Column           Non-Null Count  Dtype  \n",
      "---  ------           --------------  -----  \n",
      " 0   customer_id      500 non-null    object \n",
      " 1   gender           500 non-null    object \n",
      " 2   age              500 non-null    int64  \n",
      " 3   monthly_charges  500 non-null    float64\n",
      " 4   total_charges    500 non-null    float64\n",
      " 5   tenure           500 non-null    int64  \n",
      " 6   churn            500 non-null    object \n",
      "dtypes: float64(2), int64(2), object(3)\n",
      "memory usage: 27.5+ KB\n",
      "None\n",
      "\n",
      "Describe:\n",
      "              age  monthly_charges  total_charges      tenure\n",
      "count  500.000000       500.000000     500.000000  500.000000\n",
      "mean    43.800000        68.245900    5129.141220   34.072000\n",
      "std     14.835504        28.755396    2902.229356   20.534609\n",
      "min     18.000000        20.460000     148.910000    1.000000\n",
      "25%     31.000000        42.982500    2485.110000   16.000000\n",
      "50%     44.000000        67.410000    5232.130000   32.000000\n",
      "75%     56.000000        93.230000    7634.150000   52.000000\n",
      "max     69.000000       119.790000    9994.200000   71.000000\n"
     ]
    }
   ],
   "source": [
    "# Shape of the dataset (rows, columns)\n",
    "print(\"Shape:\", data.shape)\n",
    "\n",
    "# Column data types and non-null values\n",
    "print(\"\\nInfo:\")\n",
    "print(data.info())\n",
    "\n",
    "# Basic statistics of numerical columns\n",
    "print(\"\\nDescribe:\")\n",
    "print(data.describe())"
   ]
  },
  {
   "cell_type": "code",
   "execution_count": 5,
   "id": "05ab46a6-1e0a-4687-8254-4e97d1b7ca67",
   "metadata": {},
   "outputs": [
    {
     "name": "stdout",
     "output_type": "stream",
     "text": [
      "<class 'pandas.core.frame.DataFrame'>\n",
      "RangeIndex: 500 entries, 0 to 499\n",
      "Data columns (total 7 columns):\n",
      " #   Column           Non-Null Count  Dtype  \n",
      "---  ------           --------------  -----  \n",
      " 0   customer_id      500 non-null    object \n",
      " 1   gender           500 non-null    object \n",
      " 2   age              500 non-null    int64  \n",
      " 3   monthly_charges  500 non-null    float64\n",
      " 4   total_charges    500 non-null    float64\n",
      " 5   tenure           500 non-null    int64  \n",
      " 6   churn            500 non-null    object \n",
      "dtypes: float64(2), int64(2), object(3)\n",
      "memory usage: 27.5+ KB\n"
     ]
    }
   ],
   "source": [
    "data.info()"
   ]
  },
  {
   "cell_type": "code",
   "execution_count": 6,
   "id": "e39e1a07-ff92-455f-b3e2-ec09b90ffad4",
   "metadata": {},
   "outputs": [
    {
     "name": "stdout",
     "output_type": "stream",
     "text": [
      "Shape: (500, 7)\n"
     ]
    }
   ],
   "source": [
    "# Shape of the dataset (rows, columns)\n",
    "print(\"Shape:\", data.shape)"
   ]
  },
  {
   "cell_type": "code",
   "execution_count": 7,
   "id": "370e5788-f89a-4fc8-8880-91a9995210bf",
   "metadata": {},
   "outputs": [
    {
     "name": "stdout",
     "output_type": "stream",
     "text": [
      "\n",
      "Info:\n",
      "<class 'pandas.core.frame.DataFrame'>\n",
      "RangeIndex: 500 entries, 0 to 499\n",
      "Data columns (total 7 columns):\n",
      " #   Column           Non-Null Count  Dtype  \n",
      "---  ------           --------------  -----  \n",
      " 0   customer_id      500 non-null    object \n",
      " 1   gender           500 non-null    object \n",
      " 2   age              500 non-null    int64  \n",
      " 3   monthly_charges  500 non-null    float64\n",
      " 4   total_charges    500 non-null    float64\n",
      " 5   tenure           500 non-null    int64  \n",
      " 6   churn            500 non-null    object \n",
      "dtypes: float64(2), int64(2), object(3)\n",
      "memory usage: 27.5+ KB\n",
      "None\n"
     ]
    }
   ],
   "source": [
    "# Column data types and non-null values\n",
    "print(\"\\nInfo:\")\n",
    "print(data.info())"
   ]
  },
  {
   "cell_type": "code",
   "execution_count": 8,
   "id": "471df8ef-4960-4c4d-bbae-260d0b881b90",
   "metadata": {},
   "outputs": [
    {
     "name": "stdout",
     "output_type": "stream",
     "text": [
      "\n",
      "Describe:\n",
      "              age  monthly_charges  total_charges      tenure\n",
      "count  500.000000       500.000000     500.000000  500.000000\n",
      "mean    43.800000        68.245900    5129.141220   34.072000\n",
      "std     14.835504        28.755396    2902.229356   20.534609\n",
      "min     18.000000        20.460000     148.910000    1.000000\n",
      "25%     31.000000        42.982500    2485.110000   16.000000\n",
      "50%     44.000000        67.410000    5232.130000   32.000000\n",
      "75%     56.000000        93.230000    7634.150000   52.000000\n",
      "max     69.000000       119.790000    9994.200000   71.000000\n"
     ]
    }
   ],
   "source": [
    "# Basic statistics of numerical columns\n",
    "print(\"\\nDescribe:\")\n",
    "print(data.describe())"
   ]
  },
  {
   "cell_type": "code",
   "execution_count": 9,
   "id": "9b139dd2-4f62-4132-a34b-b74c6024a630",
   "metadata": {},
   "outputs": [
    {
     "data": {
      "text/html": [
       "<div>\n",
       "<style scoped>\n",
       "    .dataframe tbody tr th:only-of-type {\n",
       "        vertical-align: middle;\n",
       "    }\n",
       "\n",
       "    .dataframe tbody tr th {\n",
       "        vertical-align: top;\n",
       "    }\n",
       "\n",
       "    .dataframe thead th {\n",
       "        text-align: right;\n",
       "    }\n",
       "</style>\n",
       "<table border=\"1\" class=\"dataframe\">\n",
       "  <thead>\n",
       "    <tr style=\"text-align: right;\">\n",
       "      <th></th>\n",
       "      <th>age</th>\n",
       "      <th>monthly_charges</th>\n",
       "      <th>total_charges</th>\n",
       "      <th>tenure</th>\n",
       "    </tr>\n",
       "  </thead>\n",
       "  <tbody>\n",
       "    <tr>\n",
       "      <th>count</th>\n",
       "      <td>500.000000</td>\n",
       "      <td>500.000000</td>\n",
       "      <td>500.000000</td>\n",
       "      <td>500.000000</td>\n",
       "    </tr>\n",
       "    <tr>\n",
       "      <th>mean</th>\n",
       "      <td>43.800000</td>\n",
       "      <td>68.245900</td>\n",
       "      <td>5129.141220</td>\n",
       "      <td>34.072000</td>\n",
       "    </tr>\n",
       "    <tr>\n",
       "      <th>std</th>\n",
       "      <td>14.835504</td>\n",
       "      <td>28.755396</td>\n",
       "      <td>2902.229356</td>\n",
       "      <td>20.534609</td>\n",
       "    </tr>\n",
       "    <tr>\n",
       "      <th>min</th>\n",
       "      <td>18.000000</td>\n",
       "      <td>20.460000</td>\n",
       "      <td>148.910000</td>\n",
       "      <td>1.000000</td>\n",
       "    </tr>\n",
       "    <tr>\n",
       "      <th>25%</th>\n",
       "      <td>31.000000</td>\n",
       "      <td>42.982500</td>\n",
       "      <td>2485.110000</td>\n",
       "      <td>16.000000</td>\n",
       "    </tr>\n",
       "    <tr>\n",
       "      <th>50%</th>\n",
       "      <td>44.000000</td>\n",
       "      <td>67.410000</td>\n",
       "      <td>5232.130000</td>\n",
       "      <td>32.000000</td>\n",
       "    </tr>\n",
       "    <tr>\n",
       "      <th>75%</th>\n",
       "      <td>56.000000</td>\n",
       "      <td>93.230000</td>\n",
       "      <td>7634.150000</td>\n",
       "      <td>52.000000</td>\n",
       "    </tr>\n",
       "    <tr>\n",
       "      <th>max</th>\n",
       "      <td>69.000000</td>\n",
       "      <td>119.790000</td>\n",
       "      <td>9994.200000</td>\n",
       "      <td>71.000000</td>\n",
       "    </tr>\n",
       "  </tbody>\n",
       "</table>\n",
       "</div>"
      ],
      "text/plain": [
       "              age  monthly_charges  total_charges      tenure\n",
       "count  500.000000       500.000000     500.000000  500.000000\n",
       "mean    43.800000        68.245900    5129.141220   34.072000\n",
       "std     14.835504        28.755396    2902.229356   20.534609\n",
       "min     18.000000        20.460000     148.910000    1.000000\n",
       "25%     31.000000        42.982500    2485.110000   16.000000\n",
       "50%     44.000000        67.410000    5232.130000   32.000000\n",
       "75%     56.000000        93.230000    7634.150000   52.000000\n",
       "max     69.000000       119.790000    9994.200000   71.000000"
      ]
     },
     "execution_count": 9,
     "metadata": {},
     "output_type": "execute_result"
    }
   ],
   "source": [
    "data.describe()"
   ]
  },
  {
   "cell_type": "markdown",
   "id": "edd1901a-64ec-40c4-a623-7724496b00b7",
   "metadata": {},
   "source": [
    "# Now Step 2: Understand the Data"
   ]
  },
  {
   "cell_type": "code",
   "execution_count": 10,
   "id": "33e1255a-93f7-4b53-8d4a-e90880f84a9d",
   "metadata": {},
   "outputs": [
    {
     "name": "stdout",
     "output_type": "stream",
     "text": [
      "Shape: (500, 7)\n",
      "<class 'pandas.core.frame.DataFrame'>\n",
      "RangeIndex: 500 entries, 0 to 499\n",
      "Data columns (total 7 columns):\n",
      " #   Column           Non-Null Count  Dtype  \n",
      "---  ------           --------------  -----  \n",
      " 0   customer_id      500 non-null    object \n",
      " 1   gender           500 non-null    object \n",
      " 2   age              500 non-null    int64  \n",
      " 3   monthly_charges  500 non-null    float64\n",
      " 4   total_charges    500 non-null    float64\n",
      " 5   tenure           500 non-null    int64  \n",
      " 6   churn            500 non-null    object \n",
      "dtypes: float64(2), int64(2), object(3)\n",
      "memory usage: 27.5+ KB\n",
      "None\n",
      "              age  monthly_charges  total_charges      tenure\n",
      "count  500.000000       500.000000     500.000000  500.000000\n",
      "mean    43.800000        68.245900    5129.141220   34.072000\n",
      "std     14.835504        28.755396    2902.229356   20.534609\n",
      "min     18.000000        20.460000     148.910000    1.000000\n",
      "25%     31.000000        42.982500    2485.110000   16.000000\n",
      "50%     44.000000        67.410000    5232.130000   32.000000\n",
      "75%     56.000000        93.230000    7634.150000   52.000000\n",
      "max     69.000000       119.790000    9994.200000   71.000000\n"
     ]
    }
   ],
   "source": [
    "print(\"Shape:\", data.shape)\n",
    "print(data.info())\n",
    "print(data.describe())"
   ]
  },
  {
   "cell_type": "markdown",
   "id": "58ae39d9-f67e-4ac8-9457-7f3644f1b1b8",
   "metadata": {},
   "source": [
    "### Step 3: Data Cleaning (Minimal for You)\n",
    "-  data is already clean (no missing or wrong data types), we can quickly move to:"
   ]
  },
  {
   "cell_type": "markdown",
   "id": "b0246d42-7d80-4e9c-b529-ecb4377e39a4",
   "metadata": {},
   "source": [
    "# 4.EDA Commands Next:"
   ]
  },
  {
   "cell_type": "code",
   "execution_count": 11,
   "id": "bf938a4b-669d-4431-bdc5-41bb431841a0",
   "metadata": {},
   "outputs": [
    {
     "data": {
      "text/plain": [
       "churn\n",
       "No     350\n",
       "Yes    150\n",
       "Name: count, dtype: int64"
      ]
     },
     "execution_count": 11,
     "metadata": {},
     "output_type": "execute_result"
    }
   ],
   "source": [
    "data['churn'].value_counts()"
   ]
  },
  {
   "cell_type": "code",
   "execution_count": 12,
   "id": "0fa3b4c6-2b26-482a-ae50-949f48f1ff3d",
   "metadata": {},
   "outputs": [
    {
     "name": "stdout",
     "output_type": "stream",
     "text": [
      "churn\n",
      "No     350\n",
      "Yes    150\n",
      "Name: count, dtype: int64\n"
     ]
    }
   ],
   "source": [
    "# 1. Count of churned vs not churned\n",
    "print(data['churn'].value_counts())"
   ]
  },
  {
   "cell_type": "code",
   "execution_count": 13,
   "id": "374b1288-a492-48bd-89b8-19e9a4056f8f",
   "metadata": {},
   "outputs": [
    {
     "data": {
      "text/plain": [
       "gender\n",
       "Female    256\n",
       "Male      244\n",
       "Name: count, dtype: int64"
      ]
     },
     "execution_count": 13,
     "metadata": {},
     "output_type": "execute_result"
    }
   ],
   "source": [
    "data['gender'].value_counts()"
   ]
  },
  {
   "cell_type": "code",
   "execution_count": 14,
   "id": "5730a04e-c3dd-4ae6-a56a-4bb61a6d6373",
   "metadata": {},
   "outputs": [
    {
     "name": "stdout",
     "output_type": "stream",
     "text": [
      "churn          No        Yes\n",
      "gender                      \n",
      "Female  68.359375  31.640625\n",
      "Male    71.721311  28.278689\n"
     ]
    }
   ],
   "source": [
    "# churn % by gender\n",
    "print(pd.crosstab(data['gender'],data['churn'], normalize='index') *100)"
   ]
  },
  {
   "cell_type": "code",
   "execution_count": 15,
   "id": "7d1d7e5f-d5b6-4930-b08b-a78b77952355",
   "metadata": {},
   "outputs": [
    {
     "data": {
      "text/html": [
       "<div>\n",
       "<style scoped>\n",
       "    .dataframe tbody tr th:only-of-type {\n",
       "        vertical-align: middle;\n",
       "    }\n",
       "\n",
       "    .dataframe tbody tr th {\n",
       "        vertical-align: top;\n",
       "    }\n",
       "\n",
       "    .dataframe thead th {\n",
       "        text-align: right;\n",
       "    }\n",
       "</style>\n",
       "<table border=\"1\" class=\"dataframe\">\n",
       "  <thead>\n",
       "    <tr style=\"text-align: right;\">\n",
       "      <th>churn</th>\n",
       "      <th>No</th>\n",
       "      <th>Yes</th>\n",
       "    </tr>\n",
       "    <tr>\n",
       "      <th>gender</th>\n",
       "      <th></th>\n",
       "      <th></th>\n",
       "    </tr>\n",
       "  </thead>\n",
       "  <tbody>\n",
       "    <tr>\n",
       "      <th>Female</th>\n",
       "      <td>0.683594</td>\n",
       "      <td>0.316406</td>\n",
       "    </tr>\n",
       "    <tr>\n",
       "      <th>Male</th>\n",
       "      <td>0.717213</td>\n",
       "      <td>0.282787</td>\n",
       "    </tr>\n",
       "  </tbody>\n",
       "</table>\n",
       "</div>"
      ],
      "text/plain": [
       "churn         No       Yes\n",
       "gender                    \n",
       "Female  0.683594  0.316406\n",
       "Male    0.717213  0.282787"
      ]
     },
     "execution_count": 15,
     "metadata": {},
     "output_type": "execute_result"
    }
   ],
   "source": [
    "pd.crosstab(data['gender'],data['churn'], normalize='index')"
   ]
  },
  {
   "cell_type": "code",
   "execution_count": 16,
   "id": "78b8e6e3-1c0d-4804-84f0-b2955204c835",
   "metadata": {},
   "outputs": [
    {
     "data": {
      "text/html": [
       "<div>\n",
       "<style scoped>\n",
       "    .dataframe tbody tr th:only-of-type {\n",
       "        vertical-align: middle;\n",
       "    }\n",
       "\n",
       "    .dataframe tbody tr th {\n",
       "        vertical-align: top;\n",
       "    }\n",
       "\n",
       "    .dataframe thead th {\n",
       "        text-align: right;\n",
       "    }\n",
       "</style>\n",
       "<table border=\"1\" class=\"dataframe\">\n",
       "  <thead>\n",
       "    <tr style=\"text-align: right;\">\n",
       "      <th>churn</th>\n",
       "      <th>No</th>\n",
       "      <th>Yes</th>\n",
       "    </tr>\n",
       "    <tr>\n",
       "      <th>gender</th>\n",
       "      <th></th>\n",
       "      <th></th>\n",
       "    </tr>\n",
       "  </thead>\n",
       "  <tbody>\n",
       "    <tr>\n",
       "      <th>Female</th>\n",
       "      <td>0.683594</td>\n",
       "      <td>0.316406</td>\n",
       "    </tr>\n",
       "    <tr>\n",
       "      <th>Male</th>\n",
       "      <td>0.717213</td>\n",
       "      <td>0.282787</td>\n",
       "    </tr>\n",
       "  </tbody>\n",
       "</table>\n",
       "</div>"
      ],
      "text/plain": [
       "churn         No       Yes\n",
       "gender                    \n",
       "Female  0.683594  0.316406\n",
       "Male    0.717213  0.282787"
      ]
     },
     "execution_count": 16,
     "metadata": {},
     "output_type": "execute_result"
    }
   ],
   "source": [
    "pd.crosstab(data['gender'],data['churn'], normalize='index')"
   ]
  },
  {
   "cell_type": "code",
   "execution_count": 17,
   "id": "a3d384e4-7eaf-439a-abe7-506bb541ce15",
   "metadata": {},
   "outputs": [
    {
     "data": {
      "image/png": "[encoded data removed]",
      "text/plain": [
       "<Figure size 640x480 with 1 Axes>"
      ]
     },
     "metadata": {},
     "output_type": "display_data"
    }
   ],
   "source": [
    "# Boxplot: Monthly charges vs churn\n",
    "sns.boxplot(x='churn', y='monthly_charges',data=data)\n",
    "plt.title('monthly Charges vs Churn')\n",
    "plt.show()"
   ]
  },
  {
   "cell_type": "code",
   "execution_count": 18,
   "id": "951bdc48-17c0-49af-ac3d-23827c810ee1",
   "metadata": {},
   "outputs": [
    {
     "data": {
      "image/png": "[encoded data removed]",
      "text/plain": [
       "<Figure size 640x480 with 1 Axes>"
      ]
     },
     "metadata": {},
     "output_type": "display_data"
    }
   ],
   "source": [
    "# histogram of tenure\n",
    "data['tenure'].hist(bins=20)\n",
    "plt.title('Distribution of Tenure')\n",
    "plt.xlabel('tenure (Months')\n",
    "plt.ylabel('Number of Customers')\n",
    "plt.show()"
   ]
  },
  {
   "cell_type": "code",
   "execution_count": 21,
   "id": "52330472-fc92-4c14-bb78-d0ca126a9ce1",
   "metadata": {},
   "outputs": [
    {
     "data": {
      "image/png": "[encoded data removed]",
      "text/plain": [
       "<Figure size 640x480 with 1 Axes>"
      ]
     },
     "metadata": {},
     "output_type": "display_data"
    },
    {
     "data": {
      "text/plain": [
       "(18.5, 22.0]    41\n",
       "(0.929, 4.5]    34\n",
       "(29.0, 32.5]    33\n",
       "(4.5, 8.0]      32\n",
       "(32.5, 36.0]    31\n",
       "(57.0, 60.5]    29\n",
       "(11.5, 15.0]    29\n",
       "(53.5, 57.0]    27\n",
       "(67.5, 71.0]    25\n",
       "(22.0, 25.5]    24\n",
       "(43.0, 46.5]    23\n",
       "(15.0, 18.5]    23\n",
       "(46.5, 50.0]    22\n",
       "(60.5, 64.0]    22\n",
       "(8.0, 11.5]     21\n",
       "(39.5, 43.0]    19\n",
       "(50.0, 53.5]    17\n",
       "(25.5, 29.0]    16\n",
       "(64.0, 67.5]    16\n",
       "(36.0, 39.5]    16\n",
       "Name: count, dtype: int64"
      ]
     },
     "execution_count": 21,
     "metadata": {},
     "output_type": "execute_result"
    }
   ],
   "source": [
    "data['tenure'].hist(bins=20)\n",
    "plt.show()\n",
    "\n",
    "# Check bin count:\n",
    "data['tenure'].value_counts(bins=20)"
   ]
  },
  {
   "cell_type": "code",
   "execution_count": null,
   "id": "2a615a58-9c92-4c02-8e07-5585b3168fda",
   "metadata": {},
   "outputs": [],
   "source": []
  },
  {
   "cell_type": "markdown",
   "id": "320bdae2-94b2-4314-9b50-e3812abb68d1",
   "metadata": {},
   "source": [
    "###  Encoding Categorical Variables"
   ]
  },
  {
   "cell_type": "code",
   "execution_count": 19,
   "id": "bc45e424-6191-47df-b8b4-65da63ccf59e",
   "metadata": {},
   "outputs": [],
   "source": [
    "# Encode categorical variables\n",
    "data['gender']=data['gender'].map({'Male':0, 'Female':1})\n",
    "data['churn']=data['churn'].map({'No':0, 'Yes':1})"
   ]
  },
  {
   "cell_type": "code",
   "execution_count": 20,
   "id": "229532dd-af55-41f8-a2b0-0017b90a9261",
   "metadata": {},
   "outputs": [
    {
     "data": {
      "text/html": [
       "<div>\n",
       "<style scoped>\n",
       "    .dataframe tbody tr th:only-of-type {\n",
       "        vertical-align: middle;\n",
       "    }\n",
       "\n",
       "    .dataframe tbody tr th {\n",
       "        vertical-align: top;\n",
       "    }\n",
       "\n",
       "    .dataframe thead th {\n",
       "        text-align: right;\n",
       "    }\n",
       "</style>\n",
       "<table border=\"1\" class=\"dataframe\">\n",
       "  <thead>\n",
       "    <tr style=\"text-align: right;\">\n",
       "      <th></th>\n",
       "      <th>customer_id</th>\n",
       "      <th>gender</th>\n",
       "      <th>age</th>\n",
       "      <th>monthly_charges</th>\n",
       "      <th>total_charges</th>\n",
       "      <th>tenure</th>\n",
       "      <th>churn</th>\n",
       "    </tr>\n",
       "  </thead>\n",
       "  <tbody>\n",
       "    <tr>\n",
       "      <th>0</th>\n",
       "      <td>C1000</td>\n",
       "      <td>0</td>\n",
       "      <td>38</td>\n",
       "      <td>110.42</td>\n",
       "      <td>3610.76</td>\n",
       "      <td>36</td>\n",
       "      <td>0</td>\n",
       "    </tr>\n",
       "    <tr>\n",
       "      <th>1</th>\n",
       "      <td>C1001</td>\n",
       "      <td>1</td>\n",
       "      <td>49</td>\n",
       "      <td>54.83</td>\n",
       "      <td>2943.67</td>\n",
       "      <td>55</td>\n",
       "      <td>0</td>\n",
       "    </tr>\n",
       "    <tr>\n",
       "      <th>2</th>\n",
       "      <td>C1002</td>\n",
       "      <td>0</td>\n",
       "      <td>40</td>\n",
       "      <td>71.40</td>\n",
       "      <td>3033.45</td>\n",
       "      <td>69</td>\n",
       "      <td>0</td>\n",
       "    </tr>\n",
       "    <tr>\n",
       "      <th>3</th>\n",
       "      <td>C1003</td>\n",
       "      <td>0</td>\n",
       "      <td>50</td>\n",
       "      <td>98.37</td>\n",
       "      <td>2412.72</td>\n",
       "      <td>47</td>\n",
       "      <td>1</td>\n",
       "    </tr>\n",
       "    <tr>\n",
       "      <th>4</th>\n",
       "      <td>C1004</td>\n",
       "      <td>0</td>\n",
       "      <td>20</td>\n",
       "      <td>59.65</td>\n",
       "      <td>516.72</td>\n",
       "      <td>49</td>\n",
       "      <td>1</td>\n",
       "    </tr>\n",
       "  </tbody>\n",
       "</table>\n",
       "</div>"
      ],
      "text/plain": [
       "  customer_id  gender  age  monthly_charges  total_charges  tenure  churn\n",
       "0       C1000       0   38           110.42        3610.76      36      0\n",
       "1       C1001       1   49            54.83        2943.67      55      0\n",
       "2       C1002       0   40            71.40        3033.45      69      0\n",
       "3       C1003       0   50            98.37        2412.72      47      1\n",
       "4       C1004       0   20            59.65         516.72      49      1"
      ]
     },
     "execution_count": 20,
     "metadata": {},
     "output_type": "execute_result"
    }
   ],
   "source": [
    "# check the updated data\n",
    "data.head()"
   ]
  },
  {
   "cell_type": "markdown",
   "id": "b58e7ba9-f97e-405e-b4ee-4c6bde3a0cdd",
   "metadata": {},
   "source": [
    "# Step 5: Split into Training & Testing\n",
    "- We’ll separate features (X) and target (y), then split data:"
   ]
  },
  {
   "cell_type": "code",
   "execution_count": 23,
   "id": "86250d1c-3720-4e8b-90c1-1d7cd26b101d",
   "metadata": {},
   "outputs": [],
   "source": [
    "from sklearn.model_selection import train_test_split\n",
    "# Separate input and output\n",
    "X=data.drop(['customer_id', 'churn'],axis=1)\n",
    "y=data['churn']"
   ]
  },
  {
   "cell_type": "code",
   "execution_count": 25,
   "id": "fc1e2b67-8ed9-4250-91b7-4b2f2dd88c0a",
   "metadata": {},
   "outputs": [
    {
     "data": {
      "text/html": [
       "<div>\n",
       "<style scoped>\n",
       "    .dataframe tbody tr th:only-of-type {\n",
       "        vertical-align: middle;\n",
       "    }\n",
       "\n",
       "    .dataframe tbody tr th {\n",
       "        vertical-align: top;\n",
       "    }\n",
       "\n",
       "    .dataframe thead th {\n",
       "        text-align: right;\n",
       "    }\n",
       "</style>\n",
       "<table border=\"1\" class=\"dataframe\">\n",
       "  <thead>\n",
       "    <tr style=\"text-align: right;\">\n",
       "      <th></th>\n",
       "      <th>gender</th>\n",
       "      <th>age</th>\n",
       "      <th>monthly_charges</th>\n",
       "      <th>total_charges</th>\n",
       "      <th>tenure</th>\n",
       "    </tr>\n",
       "  </thead>\n",
       "  <tbody>\n",
       "    <tr>\n",
       "      <th>0</th>\n",
       "      <td>0</td>\n",
       "      <td>38</td>\n",
       "      <td>110.42</td>\n",
       "      <td>3610.76</td>\n",
       "      <td>36</td>\n",
       "    </tr>\n",
       "    <tr>\n",
       "      <th>1</th>\n",
       "      <td>1</td>\n",
       "      <td>49</td>\n",
       "      <td>54.83</td>\n",
       "      <td>2943.67</td>\n",
       "      <td>55</td>\n",
       "    </tr>\n",
       "    <tr>\n",
       "      <th>2</th>\n",
       "      <td>0</td>\n",
       "      <td>40</td>\n",
       "      <td>71.40</td>\n",
       "      <td>3033.45</td>\n",
       "      <td>69</td>\n",
       "    </tr>\n",
       "    <tr>\n",
       "      <th>3</th>\n",
       "      <td>0</td>\n",
       "      <td>50</td>\n",
       "      <td>98.37</td>\n",
       "      <td>2412.72</td>\n",
       "      <td>47</td>\n",
       "    </tr>\n",
       "    <tr>\n",
       "      <th>4</th>\n",
       "      <td>0</td>\n",
       "      <td>20</td>\n",
       "      <td>59.65</td>\n",
       "      <td>516.72</td>\n",
       "      <td>49</td>\n",
       "    </tr>\n",
       "    <tr>\n",
       "      <th>...</th>\n",
       "      <td>...</td>\n",
       "      <td>...</td>\n",
       "      <td>...</td>\n",
       "      <td>...</td>\n",
       "      <td>...</td>\n",
       "    </tr>\n",
       "    <tr>\n",
       "      <th>495</th>\n",
       "      <td>0</td>\n",
       "      <td>35</td>\n",
       "      <td>61.78</td>\n",
       "      <td>2820.58</td>\n",
       "      <td>70</td>\n",
       "    </tr>\n",
       "    <tr>\n",
       "      <th>496</th>\n",
       "      <td>0</td>\n",
       "      <td>47</td>\n",
       "      <td>62.14</td>\n",
       "      <td>8243.88</td>\n",
       "      <td>44</td>\n",
       "    </tr>\n",
       "    <tr>\n",
       "      <th>497</th>\n",
       "      <td>1</td>\n",
       "      <td>32</td>\n",
       "      <td>93.76</td>\n",
       "      <td>4295.01</td>\n",
       "      <td>45</td>\n",
       "    </tr>\n",
       "    <tr>\n",
       "      <th>498</th>\n",
       "      <td>0</td>\n",
       "      <td>44</td>\n",
       "      <td>43.88</td>\n",
       "      <td>6708.74</td>\n",
       "      <td>56</td>\n",
       "    </tr>\n",
       "    <tr>\n",
       "      <th>499</th>\n",
       "      <td>1</td>\n",
       "      <td>68</td>\n",
       "      <td>31.05</td>\n",
       "      <td>1045.80</td>\n",
       "      <td>57</td>\n",
       "    </tr>\n",
       "  </tbody>\n",
       "</table>\n",
       "<p>500 rows × 5 columns</p>\n",
       "</div>"
      ],
      "text/plain": [
       "     gender  age  monthly_charges  total_charges  tenure\n",
       "0         0   38           110.42        3610.76      36\n",
       "1         1   49            54.83        2943.67      55\n",
       "2         0   40            71.40        3033.45      69\n",
       "3         0   50            98.37        2412.72      47\n",
       "4         0   20            59.65         516.72      49\n",
       "..      ...  ...              ...            ...     ...\n",
       "495       0   35            61.78        2820.58      70\n",
       "496       0   47            62.14        8243.88      44\n",
       "497       1   32            93.76        4295.01      45\n",
       "498       0   44            43.88        6708.74      56\n",
       "499       1   68            31.05        1045.80      57\n",
       "\n",
       "[500 rows x 5 columns]"
      ]
     },
     "execution_count": 25,
     "metadata": {},
     "output_type": "execute_result"
    }
   ],
   "source": [
    "X"
   ]
  },
  {
   "cell_type": "code",
   "execution_count": 26,
   "id": "f88c9e17-7b45-46db-90d4-f089c30502a8",
   "metadata": {},
   "outputs": [
    {
     "data": {
      "text/plain": [
       "0      0\n",
       "1      0\n",
       "2      0\n",
       "3      1\n",
       "4      1\n",
       "      ..\n",
       "495    1\n",
       "496    1\n",
       "497    0\n",
       "498    1\n",
       "499    1\n",
       "Name: churn, Length: 500, dtype: int64"
      ]
     },
     "execution_count": 26,
     "metadata": {},
     "output_type": "execute_result"
    }
   ],
   "source": [
    "y"
   ]
  },
  {
   "cell_type": "code",
   "execution_count": 28,
   "id": "69d57e55-69c2-47c4-a522-b6df66db7c5b",
   "metadata": {},
   "outputs": [
    {
     "name": "stdout",
     "output_type": "stream",
     "text": [
      "Train shape: (400, 5)\n",
      "Test shape: (100, 5)\n"
     ]
    }
   ],
   "source": [
    "# Train-test split(80% train, 20%test)\n",
    "X_train,X_test,y_train,y_test=train_test_split(X,y,test_size=0.2, random_state=42)\n",
    "print(\"Train shape:\", X_train.shape)\n",
    "print(\"Test shape:\", X_test.shape)"
   ]
  },
  {
   "cell_type": "markdown",
   "id": "28b23af6-b304-4d3d-b289-aff9ccc41c6e",
   "metadata": {},
   "source": [
    "### Step 6: Train a Machine Learning Model"
   ]
  },
  {
   "cell_type": "code",
   "execution_count": 29,
   "id": "26db36ec-d1df-4488-aac1-3a78a487b98a",
   "metadata": {},
   "outputs": [
    {
     "data": {
      "text/html": [
       "<style>#sk-container-id-1 {color: black;background-color: white;}#sk-container-id-1 pre{padding: 0;}#sk-container-id-1 div.sk-toggleable {background-color: white;}#sk-container-id-1 label.sk-toggleable__label {cursor: pointer;display: block;width: 100%;margin-bottom: 0;padding: 0.3em;box-sizing: border-box;text-align: center;}#sk-container-id-1 label.sk-toggleable__label-arrow:before {content: \"▸\";float: left;margin-right: 0.25em;color: #696969;}#sk-container-id-1 label.sk-toggleable__label-arrow:hover:before {color: black;}#sk-container-id-1 div.sk-estimator:hover label.sk-toggleable__label-arrow:before {color: black;}#sk-container-id-1 div.sk-toggleable__content {max-height: 0;max-width: 0;overflow: hidden;text-align: left;background-color: #f0f8ff;}#sk-container-id-1 div.sk-toggleable__content pre {margin: 0.2em;color: black;border-radius: 0.25em;background-color: #f0f8ff;}#sk-container-id-1 input.sk-toggleable__control:checked~div.sk-toggleable__content {max-height: 200px;max-width: 100%;overflow: auto;}#sk-container-id-1 input.sk-toggleable__control:checked~label.sk-toggleable__label-arrow:before {content: \"▾\";}#sk-container-id-1 div.sk-estimator input.sk-toggleable__control:checked~label.sk-toggleable__label {background-color: #d4ebff;}#sk-container-id-1 div.sk-label input.sk-toggleable__control:checked~label.sk-toggleable__label {background-color: #d4ebff;}#sk-container-id-1 input.sk-hidden--visually {border: 0;clip: rect(1px 1px 1px 1px);clip: rect(1px, 1px, 1px, 1px);height: 1px;margin: -1px;overflow: hidden;padding: 0;position: absolute;width: 1px;}#sk-container-id-1 div.sk-estimator {font-family: monospace;background-color: #f0f8ff;border: 1px dotted black;border-radius: 0.25em;box-sizing: border-box;margin-bottom: 0.5em;}#sk-container-id-1 div.sk-estimator:hover {background-color: #d4ebff;}#sk-container-id-1 div.sk-parallel-item::after {content: \"\";width: 100%;border-bottom: 1px solid gray;flex-grow: 1;}#sk-container-id-1 div.sk-label:hover label.sk-toggleable__label {background-color: #d4ebff;}#sk-container-id-1 div.sk-serial::before {content: \"\";position: absolute;border-left: 1px solid gray;box-sizing: border-box;top: 0;bottom: 0;left: 50%;z-index: 0;}#sk-container-id-1 div.sk-serial {display: flex;flex-direction: column;align-items: center;background-color: white;padding-right: 0.2em;padding-left: 0.2em;position: relative;}#sk-container-id-1 div.sk-item {position: relative;z-index: 1;}#sk-container-id-1 div.sk-parallel {display: flex;align-items: stretch;justify-content: center;background-color: white;position: relative;}#sk-container-id-1 div.sk-item::before, #sk-container-id-1 div.sk-parallel-item::before {content: \"\";position: absolute;border-left: 1px solid gray;box-sizing: border-box;top: 0;bottom: 0;left: 50%;z-index: -1;}#sk-container-id-1 div.sk-parallel-item {display: flex;flex-direction: column;z-index: 1;position: relative;background-color: white;}#sk-container-id-1 div.sk-parallel-item:first-child::after {align-self: flex-end;width: 50%;}#sk-container-id-1 div.sk-parallel-item:last-child::after {align-self: flex-start;width: 50%;}#sk-container-id-1 div.sk-parallel-item:only-child::after {width: 0;}#sk-container-id-1 div.sk-dashed-wrapped {border: 1px dashed gray;margin: 0 0.4em 0.5em 0.4em;box-sizing: border-box;padding-bottom: 0.4em;background-color: white;}#sk-container-id-1 div.sk-label label {font-family: monospace;font-weight: bold;display: inline-block;line-height: 1.2em;}#sk-container-id-1 div.sk-label-container {text-align: center;}#sk-container-id-1 div.sk-container {/* jupyter's `normalize.less` sets `[hidden] { display: none; }` but bootstrap.min.css set `[hidden] { display: none !important; }` so we also need the `!important` here to be able to override the default hidden behavior on the sphinx rendered scikit-learn.org. See: https://github.com/scikit-learn/scikit-learn/issues/21755 */display: inline-block !important;position: relative;}#sk-container-id-1 div.sk-text-repr-fallback {display: none;}</style><div id=\"sk-container-id-1\" class=\"sk-top-container\"><div class=\"sk-text-repr-fallback\"><pre>LogisticRegression()</pre><b>In a Jupyter environment, please rerun this cell to show the HTML representation or trust the notebook. <br />On GitHub, the HTML representation is unable to render, please try loading this page with nbviewer.org.</b></div><div class=\"sk-container\" hidden><div class=\"sk-item\"><div class=\"sk-estimator sk-toggleable\"><input class=\"sk-toggleable__control sk-hidden--visually\" id=\"sk-estimator-id-1\" type=\"checkbox\" checked><label for=\"sk-estimator-id-1\" class=\"sk-toggleable__label sk-toggleable__label-arrow\">LogisticRegression</label><div class=\"sk-toggleable__content\"><pre>LogisticRegression()</pre></div></div></div></div></div>"
      ],
      "text/plain": [
       "LogisticRegression()"
      ]
     },
     "execution_count": 29,
     "metadata": {},
     "output_type": "execute_result"
    }
   ],
   "source": [
    "from sklearn.linear_model import LogisticRegression\n",
    "from sklearn.metrics import accuracy_score, confusion_matrix, classification_report\n",
    "\n",
    "# create and train the model\n",
    "model=LogisticRegression()\n",
    "model.fit(X_train, y_train)"
   ]
  },
  {
   "cell_type": "code",
   "execution_count": 30,
   "id": "6b0815c7-3a31-4810-826a-2d57e0cf3bcc",
   "metadata": {},
   "outputs": [
    {
     "data": {
      "text/plain": [
       "array([0, 0, 0, 0, 0, 0, 0, 0, 0, 0, 0, 0, 0, 0, 0, 0, 0, 0, 0, 0, 0, 0,\n",
       "       0, 0, 0, 0, 0, 0, 0, 0, 0, 0, 0, 0, 0, 0, 0, 0, 0, 0, 0, 0, 0, 0,\n",
       "       0, 0, 0, 0, 0, 0, 0, 0, 0, 0, 0, 0, 0, 0, 0, 0, 0, 0, 0, 0, 0, 0,\n",
       "       0, 0, 0, 0, 0, 0, 0, 0, 0, 0, 0, 0, 0, 0, 0, 0, 0, 0, 0, 0, 0, 0,\n",
       "       0, 0, 0, 0, 0, 0, 0, 0, 0, 0, 0, 0], dtype=int64)"
      ]
     },
     "execution_count": 30,
     "metadata": {},
     "output_type": "execute_result"
    }
   ],
   "source": [
    "# predict on test set\n",
    "y_pred=model.predict(X_test)\n",
    "y_pred"
   ]
  },
  {
   "cell_type": "code",
   "execution_count": 31,
   "id": "ca03ce71-9cbb-4525-b098-d383ee457955",
   "metadata": {},
   "outputs": [
    {
     "name": "stdout",
     "output_type": "stream",
     "text": [
      "Accuracy 0.72\n",
      "\n",
      "confusion Matrix:\n",
      " [[72  0]\n",
      " [28  0]]\n",
      "\n",
      " Classification Report:\n",
      "               precision    recall  f1-score   support\n",
      "\n",
      "           0       0.72      1.00      0.84        72\n",
      "           1       0.00      0.00      0.00        28\n",
      "\n",
      "    accuracy                           0.72       100\n",
      "   macro avg       0.36      0.50      0.42       100\n",
      "weighted avg       0.52      0.72      0.60       100\n",
      "\n"
     ]
    },
    {
     "name": "stderr",
     "output_type": "stream",
     "text": [
      "C:\\Users\\md mumtaz\\anaconda3\\Lib\\site-packages\\sklearn\\metrics\\_classification.py:1344: UndefinedMetricWarning: Precision and F-score are ill-defined and being set to 0.0 in labels with no predicted samples. Use `zero_division` parameter to control this behavior.\n",
      "  _warn_prf(average, modifier, msg_start, len(result))\n",
      "C:\\Users\\md mumtaz\\anaconda3\\Lib\\site-packages\\sklearn\\metrics\\_classification.py:1344: UndefinedMetricWarning: Precision and F-score are ill-defined and being set to 0.0 in labels with no predicted samples. Use `zero_division` parameter to control this behavior.\n",
      "  _warn_prf(average, modifier, msg_start, len(result))\n",
      "C:\\Users\\md mumtaz\\anaconda3\\Lib\\site-packages\\sklearn\\metrics\\_classification.py:1344: UndefinedMetricWarning: Precision and F-score are ill-defined and being set to 0.0 in labels with no predicted samples. Use `zero_division` parameter to control this behavior.\n",
      "  _warn_prf(average, modifier, msg_start, len(result))\n"
     ]
    }
   ],
   "source": [
    "# evaluate the model\n",
    "print(\"Accuracy\",accuracy_score(y_test, y_pred))\n",
    "print(\"\\nconfusion Matrix:\\n\",confusion_matrix(y_test, y_pred))\n",
    "print(\"\\n Classification Report:\\n\", classification_report(y_test,y_pred))"
   ]
  },
  {
   "cell_type": "code",
   "execution_count": 32,
   "id": "6a25d40a-90e2-4c71-91cc-7202dd91d82d",
   "metadata": {},
   "outputs": [
    {
     "name": "stdout",
     "output_type": "stream",
     "text": [
      "✅ Accuracy: 0.45\n",
      "\n",
      "📊 Confusion Matrix:\n",
      " [[34 38]\n",
      " [17 11]]\n",
      "\n",
      "📄 Classification Report:\n",
      "               precision    recall  f1-score   support\n",
      "\n",
      "           0       0.67      0.47      0.55        72\n",
      "           1       0.22      0.39      0.29        28\n",
      "\n",
      "    accuracy                           0.45       100\n",
      "   macro avg       0.45      0.43      0.42       100\n",
      "weighted avg       0.54      0.45      0.48       100\n",
      "\n"
     ]
    }
   ],
   "source": [
    "# Add class_weight='balanced' to give churn customers equal importance\n",
    "model = LogisticRegression(class_weight='balanced')\n",
    "model.fit(X_train, y_train)\n",
    "\n",
    "# Predict again\n",
    "y_pred = model.predict(X_test)\n",
    "\n",
    "# Evaluate again\n",
    "from sklearn.metrics import accuracy_score, confusion_matrix, classification_report\n",
    "print(\"✅ Accuracy:\", accuracy_score(y_test, y_pred))\n",
    "print(\"\\n📊 Confusion Matrix:\\n\", confusion_matrix(y_test, y_pred))\n",
    "print(\"\\n📄 Classification Report:\\n\", classification_report(y_test, y_pred))\n"
   ]
  },
  {
   "cell_type": "markdown",
   "id": "4eff638d-132a-42fd-9445-e734712bafcc",
   "metadata": {},
   "source": [
    "### Step 7: Use Random Forest Classifier"
   ]
  },
  {
   "cell_type": "code",
   "execution_count": null,
   "id": "715289d6-602b-4de6-96e8-0213f950fab6",
   "metadata": {},
   "outputs": [],
   "source": [
    "from sklearn.ensemble import RandomForestClassifier\n",
    "\n",
    "# Train random forest with balanced class weight\n",
    "rf="
   ]
  },
  {
   "cell_type": "code",
   "execution_count": 33,
   "id": "cd6553a7-695e-4593-81e1-e01d485c4f9b",
   "metadata": {},
   "outputs": [
    {
     "name": "stdout",
     "output_type": "stream",
     "text": [
      "✅ Accuracy: 0.72\n",
      "\n",
      "📊 Confusion Matrix:\n",
      " [[68  4]\n",
      " [24  4]]\n",
      "\n",
      "📄 Classification Report:\n",
      "               precision    recall  f1-score   support\n",
      "\n",
      "           0       0.74      0.94      0.83        72\n",
      "           1       0.50      0.14      0.22        28\n",
      "\n",
      "    accuracy                           0.72       100\n",
      "   macro avg       0.62      0.54      0.53       100\n",
      "weighted avg       0.67      0.72      0.66       100\n",
      "\n"
     ]
    }
   ],
   "source": [
    "from sklearn.ensemble import RandomForestClassifier\n",
    "\n",
    "# Train Random Forest with balanced class weight\n",
    "rf_model = RandomForestClassifier(class_weight='balanced', random_state=42)\n",
    "rf_model.fit(X_train, y_train)\n",
    "\n",
    "# Predict and evaluate\n",
    "y_pred_rf = rf_model.predict(X_test)\n",
    "\n",
    "from sklearn.metrics import accuracy_score, confusion_matrix, classification_report\n",
    "print(\"✅ Accuracy:\", accuracy_score(y_test, y_pred_rf))\n",
    "print(\"\\n📊 Confusion Matrix:\\n\", confusion_matrix(y_test, y_pred_rf))\n",
    "print(\"\\n📄 Classification Report:\\n\", classification_report(y_test, y_pred_rf))\n"
   ]
  },
  {
   "cell_type": "code",
   "execution_count": null,
   "id": "12422452-74b8-4a57-be11-5106d3f3d4af",
   "metadata": {},
   "outputs": [],
   "source": []
  }
 ],
 "metadata": {
  "kernelspec": {
   "display_name": "Python 3 (ipykernel)",
   "language": "python",
   "name": "python3"
  },
  "language_info": {
   "codemirror_mode": {
    "name": "ipython",
    "version": 3
   },
   "file_extension": ".py",
   "mimetype": "text/x-python",
   "name": "python",
   "nbconvert_exporter": "python",
   "pygments_lexer": "ipython3",
   "version": "3.11.7"
  }
 },
 "nbformat": 4,
 "nbformat_minor": 5
}
